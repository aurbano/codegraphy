{
 "cells": [
  {
   "cell_type": "code",
   "execution_count": null,
   "metadata": {},
   "outputs": [
    {
     "name": "stdout",
     "output_type": "stream",
     "text": [
      "I also printed some stuff!\n",
      "7\n"
     ]
    }
   ],
   "source": [
    "import importlib\n",
    "from inspect import signature\n",
    "\n",
    "\n",
    "def get_fn(module_name):\n",
    "  imported_module = importlib.import_module(module_name, package=None)\n",
    "  fns = dir(imported_module)\n",
    "  public_fns = [fn for fn in fns if fn[0] != '_' and fn[-1] != '_']\n",
    "\n",
    "  assert len(public_fns) == 1, \"files must only export one function\"\n",
    "\n",
    "  fn_name = public_fns[0]\n",
    "\n",
    "  return getattr(imported_module, fn_name, None)\n",
    "\n",
    "\n",
    "def get_params(fn):\n",
    "  return signature(fn)\n",
    "\n",
    "\n",
    "def run_method(fn, args):\n",
    "  params = get_params(fn)\n",
    "  \n",
    "  expected_num = len(params.parameters.values())\n",
    "  received_num = len(args)\n",
    "\n",
    "  assert expected_num == received_num, \\\n",
    "    f\"Function expects {expected_num} parameters, but {received_num} were supplied.\"\n",
    "\n",
    "  return fn(*args)\n",
    "\n",
    "fn = get_fn('test')\n",
    "output = run_method(fn, [1, 2, 4])\n",
    "\n",
    "print(output)"
   ]
  },
  {
   "cell_type": "code",
   "execution_count": null,
   "metadata": {},
   "outputs": [],
   "source": []
  },
  {
   "cell_type": "code",
   "execution_count": null,
   "metadata": {},
   "outputs": [],
   "source": []
  }
 ],
 "metadata": {
  "kernelspec": {
   "display_name": "safebeat-ml-wN8LJ0A5-py3.9",
   "language": "python",
   "name": "python3"
  },
  "language_info": {
   "codemirror_mode": {
    "name": "ipython",
    "version": 3
   },
   "file_extension": ".py",
   "mimetype": "text/x-python",
   "name": "python",
   "nbconvert_exporter": "python",
   "pygments_lexer": "ipython3",
   "version": "3.9.6"
  }
 },
 "nbformat": 4,
 "nbformat_minor": 2
}
